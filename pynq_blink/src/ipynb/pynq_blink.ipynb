{
 "cells": [
  {
   "cell_type": "markdown",
   "id": "459c365a",
   "metadata": {},
   "source": [
    "# LED点灯制御プログラム\n",
    "ZYNQに接続されたGPIOにアクセスして、LEDの点灯パターンを制御\n",
    "- LED D9 （オレンジ）\n",
    "- LED D10（青）"
   ]
  },
  {
   "cell_type": "code",
   "execution_count": null,
   "id": "1c424fbe",
   "metadata": {},
   "outputs": [],
   "source": [
    "from pynq import Overlay\n",
    "import time\n",
    "\n",
    "ol = Overlay('design_1.bit')\n",
    "\n",
    "for i in range(10) :\n",
    "    ol.axi_gpio_0.write(0,(i & 3))\n",
    "    time.sleep(1)"
   ]
  }
 ],
 "metadata": {
  "kernelspec": {
   "display_name": "Python 3 (ipykernel)",
   "language": "python",
   "name": "python3"
  },
  "language_info": {
   "codemirror_mode": {
    "name": "ipython",
    "version": 3
   },
   "file_extension": ".py",
   "mimetype": "text/x-python",
   "name": "python",
   "nbconvert_exporter": "python",
   "pygments_lexer": "ipython3",
   "version": "3.9.5"
  }
 },
 "nbformat": 4,
 "nbformat_minor": 5
}

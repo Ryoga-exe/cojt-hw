{
 "cells": [
  {
   "cell_type": "markdown",
   "id": "6dc1be56",
   "metadata": {},
   "source": [
    "# ディスプレイチェックプログラム\n",
    "- 課題実施中にDisplayPortの解像度変更の影響で、PYNQの初期画面がでなくなる時があります\n",
    "- その際ににこのプログラムを実行して下さい\n",
    "- 本プログラム実行後にPYNQの初期画面が表示されます"
   ]
  },
  {
   "cell_type": "code",
   "execution_count": null,
   "id": "c65b4fee",
   "metadata": {},
   "outputs": [],
   "source": [
    "from pynq.lib.video import *\n",
    "\n",
    "displayport = DisplayPort()\n",
    "displayport.configure(VideoMode(640, 480, 24), PIXEL_RGB)  #VGA\n",
    "\n",
    "import time\n",
    "\n",
    "start = time.time()\n",
    "\n",
    "for i in range(600):\n",
    "    frame = displayport.newframe()\n",
    "    frame[:,:,0] = i % 256\n",
    "    displayport.writeframe(frame)\n",
    "    \n",
    "end = time.time()\n",
    "duration = end - start\n",
    "print(f\"Took {duration} seconds at {100 / duration} FPS\")\n",
    "\n",
    "displayport.close()"
   ]
  }
 ],
 "metadata": {
  "kernelspec": {
   "display_name": "Python 3 (ipykernel)",
   "language": "python",
   "name": "python3"
  },
  "language_info": {
   "codemirror_mode": {
    "name": "ipython",
    "version": 3
   },
   "file_extension": ".py",
   "mimetype": "text/x-python",
   "name": "python",
   "nbconvert_exporter": "python",
   "pygments_lexer": "ipython3",
   "version": "3.9.5"
  }
 },
 "nbformat": 4,
 "nbformat_minor": 5
}

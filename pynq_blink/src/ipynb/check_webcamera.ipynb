{
 "cells": [
  {
   "cell_type": "markdown",
   "id": "0a61801e",
   "metadata": {},
   "source": [
    "# Webカメラ制御プログラム\n",
    "- Ultra96-V2に接続したUSB Webカメラの画像を取得・表示する\n",
    "- Webカメラは、ロジクールHDウェブカムC310nを使用"
   ]
  },
  {
   "cell_type": "markdown",
   "id": "5d271a10",
   "metadata": {},
   "source": [
    "### [STEP-1] DisplayPortの解像度設定\n",
    "- VGAの解像度設定（変更禁止）"
   ]
  },
  {
   "cell_type": "code",
   "execution_count": null,
   "id": "a3034234",
   "metadata": {},
   "outputs": [],
   "source": [
    "from pynq.lib.video import *\n",
    "\n",
    "VGA_WIDTH = 640\n",
    "VGA_HEIGHT = 480\n",
    "\n",
    "displayport = DisplayPort()\n",
    "displayport.configure(VideoMode(VGA_WIDTH, VGA_HEIGHT, 24), PIXEL_RGB)"
   ]
  },
  {
   "cell_type": "markdown",
   "id": "b13695af",
   "metadata": {},
   "source": [
    "### [STEP-2] Webカメラで取得する画像の解像度設定\n",
    "- VGAの解像度設定（変更禁止）"
   ]
  },
  {
   "cell_type": "code",
   "execution_count": null,
   "id": "d426ce67",
   "metadata": {},
   "outputs": [],
   "source": [
    "import os\n",
    "os.environ[\"OPENCV_LOG_LEVEL\"]=\"SILENT\"\n",
    "import cv2\n",
    "\n",
    "capture = cv2.VideoCapture(0)\n",
    "\n",
    "capture.set(3, VGA_WIDTH)\n",
    "capture.set(4, VGA_HEIGHT)"
   ]
  },
  {
   "cell_type": "markdown",
   "id": "d4072b9d",
   "metadata": {},
   "source": [
    "### [STEP-3] Webカメラからの画像取得と表示\n",
    "- 処理時間を測定して最後にFPSの計算結果を出力"
   ]
  },
  {
   "cell_type": "code",
   "execution_count": null,
   "id": "b5de09d8",
   "metadata": {},
   "outputs": [],
   "source": [
    "import time\n",
    "\n",
    "number_frames = 150\n",
    "start = time.time()\n",
    "\n",
    "for _ in range(number_frames):\n",
    "    frame = displayport.newframe()\n",
    "    capture.read(frame)\n",
    "    displayport.writeframe(frame)\n",
    "\n",
    "end = time.time()\n",
    "duration = end - start\n",
    "print(f\"Took {duration} seconds at {number_frames / duration} FPS\")"
   ]
  },
  {
   "cell_type": "markdown",
   "id": "271fd801",
   "metadata": {},
   "source": [
    "### [STEP-4] デバイスの終了設定\n",
    "- DisplayPortとWebカメラをリリースする"
   ]
  },
  {
   "cell_type": "code",
   "execution_count": null,
   "id": "aeadf8d6",
   "metadata": {},
   "outputs": [],
   "source": [
    "capture.release()\n",
    "displayport.close()"
   ]
  }
 ],
 "metadata": {
  "kernelspec": {
   "display_name": "Python 3 (ipykernel)",
   "language": "python",
   "name": "python3"
  },
  "language_info": {
   "codemirror_mode": {
    "name": "ipython",
    "version": 3
   },
   "file_extension": ".py",
   "mimetype": "text/x-python",
   "name": "python",
   "nbconvert_exporter": "python",
   "pygments_lexer": "ipython3",
   "version": "3.9.5"
  }
 },
 "nbformat": 4,
 "nbformat_minor": 5
}

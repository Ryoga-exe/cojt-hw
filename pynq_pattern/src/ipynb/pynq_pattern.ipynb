{
 "cells": [
  {
   "cell_type": "markdown",
   "id": "58906e3e",
   "metadata": {},
   "source": [
    "# パターン表示回路プログラム\n",
    "- PLに実装したパターン表示回路の出力をDisplayPortに出力（ライブビデオ出力）する"
   ]
  },
  {
   "cell_type": "markdown",
   "id": "1d17d4a3",
   "metadata": {},
   "source": [
    "### [STEP-1] レジスタアドレス定義\n",
    "- 変更に必要なレジスタのみを定義"
   ]
  },
  {
   "cell_type": "code",
   "execution_count": null,
   "id": "0ec90baf",
   "metadata": {},
   "outputs": [],
   "source": [
    "# ZYNQ内部レジスタ\n",
    "DP_REG_BASE_ADDR  = 0xfd4a0000\n",
    "DP_REG_ADDR_RANGE = 0x0000cc20\n",
    "\n",
    "RA_DP_MAIN_STREAM_ENABLE            = 0x00000084\n",
    "RA_V_BLEND_SET_GLOVAL_ALPHA_REG     = 0x0000a00c\n",
    "RA_AV_BUF_OUTPUT_AUDIO_VIDEO_SELECT = 0x0000b070\n",
    "RA_AV_BUF_AUD_VID_CLK_SOURCE        = 0x0000b120\n",
    "RA_AV_BUF_SRST_REG                  = 0x0000b124\n",
    "\n",
    "#GPIOレジスタ\n",
    "RA_GPIO_DATA = 0x00000000"
   ]
  },
  {
   "cell_type": "markdown",
   "id": "c6309d94",
   "metadata": {},
   "source": [
    "### [STEP-2] Overlay\n",
    "- パターン表示回路のコンフィギュレーションを実施"
   ]
  },
  {
   "cell_type": "code",
   "execution_count": null,
   "id": "6faeb459",
   "metadata": {},
   "outputs": [],
   "source": [
    "from pynq import Overlay\n",
    "pl = Overlay(\"design_1.bit\")"
   ]
  },
  {
   "cell_type": "markdown",
   "id": "118895d2",
   "metadata": {},
   "source": [
    "### [STEP-3] MMIO初期化\n",
    "- ZYNQ内部レジスタアクセス用のオブジェクトdpregを生成"
   ]
  },
  {
   "cell_type": "code",
   "execution_count": null,
   "id": "add0ee80",
   "metadata": {},
   "outputs": [],
   "source": [
    "from pynq import MMIO\n",
    "dpreg = MMIO(DP_REG_BASE_ADDR,DP_REG_ADDR_RANGE)"
   ]
  },
  {
   "cell_type": "markdown",
   "id": "105111ce",
   "metadata": {},
   "source": [
    "### [STEP-4] パターン表示回路の解像度設定\n",
    "- RESOLの値を変更してパターン表示回路の解像度を設定\n",
    "    - 0 : VGA設定\n",
    "    - 1 : XGA設定\n",
    "    - 2 : SXGA設定\n",
    "-「PYNQシステム環境構築体験」では、RESOLの値は0,1のみ対応"
   ]
  },
  {
   "cell_type": "code",
   "execution_count": null,
   "id": "f71876ff",
   "metadata": {},
   "outputs": [],
   "source": [
    "RESOL = 0\n",
    "pl.axi_gpio_0.write(RA_GPIO_DATA,(RESOL&1))\n",
    "pl.axi_gpio_0.read(RA_GPIO_DATA)"
   ]
  },
  {
   "cell_type": "markdown",
   "id": "99d9d3d1",
   "metadata": {},
   "source": [
    "### [STEP-5] DisplayPort初期化\n",
    "- パターン表示回路の解像度に設定を合わせる\n",
    "    - VGA設定  : dp.configure(VideoMode(640,480,24),PIXEL_RGB)\n",
    "    - XGA設定  : dp.configure(VideoMode(1024,768,24),PIXEL_RGB)\n",
    "    - SXGA設定 : dp.configure(VideoMode(1280,1024,24),PIXEL_RGB)"
   ]
  },
  {
   "cell_type": "code",
   "execution_count": null,
   "id": "813b448a",
   "metadata": {},
   "outputs": [],
   "source": [
    "from pynq.lib.video import *\n",
    "dp = DisplayPort()\n",
    "\n",
    "if (RESOL & 1) == 1 :\n",
    "    print(\"XGA setting @ DisplayPort\")\n",
    "    dp.configure(VideoMode(1024,768,24),PIXEL_RGB)    #XGA\n",
    "else :\n",
    "    print(\"VGA setting @ DisplayPort\")\n",
    "    dp.configure(VideoMode(640,480,24),PIXEL_RGB)     #VGA"
   ]
  },
  {
   "cell_type": "markdown",
   "id": "3794bf35",
   "metadata": {},
   "source": [
    "### [STEP-6] DisplayPortレジスタ設定\n",
    "- dpregのメソッドを使ってZynq内部のDisplayPortレジスタにアクセス\n",
    "- 表示クロック（DCLK)および表示タイミング制御信号（VSYNC, HSYNC, DE)をPLから供給するように設定"
   ]
  },
  {
   "cell_type": "code",
   "execution_count": null,
   "id": "88ee179d",
   "metadata": {},
   "outputs": [],
   "source": [
    "import time\n",
    "dpreg.write(RA_DP_MAIN_STREAM_ENABLE,0x00000000)\n",
    "dpreg.write(RA_V_BLEND_SET_GLOVAL_ALPHA_REG,0x00000000)\n",
    "dpreg.write(RA_AV_BUF_OUTPUT_AUDIO_VIDEO_SELECT,0x00000050)\n",
    "dpreg.write(RA_AV_BUF_AUD_VID_CLK_SOURCE,0x00000002)\n",
    "dpreg.write(RA_AV_BUF_SRST_REG,0x00000002)\n",
    "time.sleep(1)\n",
    "dpreg.write(RA_AV_BUF_SRST_REG,0x00000000)\n",
    "time.sleep(1)\n",
    "dpreg.write(RA_DP_MAIN_STREAM_ENABLE,0x00000001)"
   ]
  },
  {
   "cell_type": "markdown",
   "id": "5d58d1e3",
   "metadata": {},
   "source": [
    "### [STEP-7] PYNQの初期画面に戻す\n",
    "- DisplayPortの制御は、PL側からPS側に切り替わります"
   ]
  },
  {
   "cell_type": "code",
   "execution_count": null,
   "id": "527364cf",
   "metadata": {},
   "outputs": [],
   "source": [
    "dp.close()\n",
    "dpreg.write(RA_DP_MAIN_STREAM_ENABLE,0x00000000)"
   ]
  }
 ],
 "metadata": {
  "kernelspec": {
   "display_name": "Python 3 (ipykernel)",
   "language": "python",
   "name": "python3"
  },
  "language_info": {
   "codemirror_mode": {
    "name": "ipython",
    "version": 3
   },
   "file_extension": ".py",
   "mimetype": "text/x-python",
   "name": "python",
   "nbconvert_exporter": "python",
   "pygments_lexer": "ipython3",
   "version": "3.10.4"
  }
 },
 "nbformat": 4,
 "nbformat_minor": 5
}

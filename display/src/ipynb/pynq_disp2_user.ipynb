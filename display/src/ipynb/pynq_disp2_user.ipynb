{
 "cells": [
  {
   "cell_type": "markdown",
   "id": "960a09e0",
   "metadata": {},
   "source": [
    "# 表示回路２ユーザプログラム\n",
    "- これまでの表示回路２の機能とサンプルプログラムを参照して、自由にプログラムを作成してください"
   ]
  },
  {
   "cell_type": "markdown",
   "id": "9e57f05d",
   "metadata": {},
   "source": [
    "### [STEP-1] 定数定義\n",
    "- 表示解像度パラメータ（VGA or XGA）\n",
    "- レジスタアドレス設定"
   ]
  },
  {
   "cell_type": "code",
   "execution_count": 1,
   "id": "b75aa863",
   "metadata": {},
   "outputs": [],
   "source": [
    "# 表示解像度パラメータ\n",
    "PIXEL_VGA_WIDTH  = 640\n",
    "PIXEL_VGA_HEIGHT = 480\n",
    "\n",
    "PIXEL_XGA_WIDTH  = 1024\n",
    "PIXEL_XGA_HEIGHT = 768\n",
    "\n",
    "# 表示回路レジスタオフセット\n",
    "RA_DISPADDR = 0x00000000\n",
    "RA_DISPCTRL = 0x00000004\n",
    "RA_DISPINT  = 0x00000008\n",
    "RA_DISPFIFO = 0x0000000c\n",
    "\n",
    "#GPIOレジスタ\n",
    "RA_GPIO_DATA = 0x00000000"
   ]
  },
  {
   "cell_type": "markdown",
   "id": "bde6f882",
   "metadata": {},
   "source": [
    "### [STEP-2] DisplayPort設定用クラス定義\n",
    "- Zynq内部の専用レジスタの定義とレジスタ設定"
   ]
  },
  {
   "cell_type": "code",
   "execution_count": 2,
   "id": "87bd9392",
   "metadata": {},
   "outputs": [
    {
     "data": {
      "application/javascript": [
       "\n",
       "try {\n",
       "require(['notebook/js/codecell'], function(codecell) {\n",
       "  codecell.CodeCell.options_default.highlight_modes[\n",
       "      'magic_text/x-csrc'] = {'reg':[/^%%microblaze/]};\n",
       "  Jupyter.notebook.events.one('kernel_ready.Kernel', function(){\n",
       "      Jupyter.notebook.get_cells().map(function(cell){\n",
       "          if (cell.cell_type == 'code'){ cell.auto_highlight(); } }) ;\n",
       "  });\n",
       "});\n",
       "} catch (e) {};\n"
      ]
     },
     "metadata": {},
     "output_type": "display_data"
    },
    {
     "data": {
      "application/javascript": [
       "\n",
       "try {\n",
       "require(['notebook/js/codecell'], function(codecell) {\n",
       "  codecell.CodeCell.options_default.highlight_modes[\n",
       "      'magic_text/x-csrc'] = {'reg':[/^%%pybind11/]};\n",
       "  Jupyter.notebook.events.one('kernel_ready.Kernel', function(){\n",
       "      Jupyter.notebook.get_cells().map(function(cell){\n",
       "          if (cell.cell_type == 'code'){ cell.auto_highlight(); } }) ;\n",
       "  });\n",
       "});\n",
       "} catch (e) {};\n"
      ]
     },
     "metadata": {},
     "output_type": "display_data"
    }
   ],
   "source": [
    "import time\n",
    "from pynq import MMIO\n",
    "from pynq.lib.video import *\n",
    "\n",
    "class LiveDisplayPort(DisplayPort):\n",
    "    \n",
    "    # DisplayPortレジスタパラメータ\n",
    "    __DP_REG_BASE_ADDR__                    = 0xfd4a0000\n",
    "    __DP_REG_ADDR_RANGE__                   = 0x0000cc20\n",
    "    __RA_DP_MAIN_STREAM_ENABLE__            = 0x00000084\n",
    "    __RA_V_BLEND_SET_GLOVAL_ALPHA_REG__     = 0x0000a00c\n",
    "    __RA_AV_BUF_OUTPUT_AUDIO_VIDEO_SELECT__ = 0x0000b070\n",
    "    __RA_AV_BUF_AUD_VID_CLK_SOURCE__        = 0x0000b120\n",
    "    __RA_AV_BUF_SRST_REG__                  = 0x0000b124\n",
    "    \n",
    "    def __init__(self, event_loop=None):\n",
    "        super().__init__(event_loop)\n",
    "        \n",
    "    def configure(self, mode, pixelformat):\n",
    "        super().configure(mode, pixelformat)\n",
    "        self.__setup_live_video__()\n",
    "        \n",
    "    def __setup_live_video__(self):\n",
    "        dpreg = MMIO(self.__DP_REG_BASE_ADDR__, self.__DP_REG_ADDR_RANGE__)\n",
    "        dpreg.write(self.__RA_DP_MAIN_STREAM_ENABLE__, 0x00000000)\n",
    "        dpreg.write(self.__RA_V_BLEND_SET_GLOVAL_ALPHA_REG__, 0x00000000)\n",
    "        dpreg.write(self.__RA_AV_BUF_OUTPUT_AUDIO_VIDEO_SELECT__, 0x00000050)\n",
    "        dpreg.write(self.__RA_AV_BUF_AUD_VID_CLK_SOURCE__, 0x00000002)\n",
    "        dpreg.write(self.__RA_AV_BUF_SRST_REG__, 0x00000002)\n",
    "        time.sleep(1)\n",
    "        dpreg.write(self.__RA_AV_BUF_SRST_REG__, 0x00000000)\n",
    "        time.sleep(1)\n",
    "        dpreg.write(self.__RA_DP_MAIN_STREAM_ENABLE__, 0x00000001)"
   ]
  },
  {
   "cell_type": "markdown",
   "id": "d2488f97",
   "metadata": {},
   "source": [
    "### [STEP-3] Overlay\n",
    "- 表示回路１のコンフィギュレーション"
   ]
  },
  {
   "cell_type": "code",
   "execution_count": 3,
   "id": "ad405a41",
   "metadata": {},
   "outputs": [],
   "source": [
    "from pynq import Overlay\n",
    "pl = Overlay(\"design_1.bit\")"
   ]
  },
  {
   "cell_type": "markdown",
   "id": "ec017aee",
   "metadata": {},
   "source": [
    "### [STEP-4] パターン表示回路の解像度設定\n",
    "- RESOLの値を変更してパターン表示回路の解像度を設定\n",
    "    - 0 : VGA設定\n",
    "    - 1 : XGA設定\n",
    "    - 2 : SXGA設定\n",
    "- 表示回路２では、RESOLの値は0,1のみ対応"
   ]
  },
  {
   "cell_type": "code",
   "execution_count": 29,
   "id": "4d533fbb",
   "metadata": {},
   "outputs": [
    {
     "data": {
      "text/plain": [
       "1"
      ]
     },
     "execution_count": 29,
     "metadata": {},
     "output_type": "execute_result"
    }
   ],
   "source": [
    "RESOL = 1\n",
    "pl.axi_gpio_0.write(RA_GPIO_DATA,(RESOL&1))\n",
    "pl.axi_gpio_0.read(RA_GPIO_DATA)"
   ]
  },
  {
   "cell_type": "markdown",
   "id": "a963bac4",
   "metadata": {},
   "source": [
    "### [STEP-5] DisplayPort初期化\n",
    "- パターン表示回路の解像度に設定を合わせる\n",
    "    - VGA設定  : dp.configure(VideoMode(640,480,24),PIXEL_RGB)\n",
    "    - XGA設定  : dp.configure(VideoMode(1024,768,24),PIXEL_RGB)\n",
    "    - SXGA設定 : dp.configure(VideoMode(1280,1024,24),PIXEL_RGB)"
   ]
  },
  {
   "cell_type": "code",
   "execution_count": 30,
   "id": "dfd95d87",
   "metadata": {},
   "outputs": [
    {
     "name": "stdout",
     "output_type": "stream",
     "text": [
      "XGA setting @ DisplayPort 1024 768\n"
     ]
    }
   ],
   "source": [
    "from pynq.lib.video import *\n",
    "lvdp = LiveDisplayPort()\n",
    "\n",
    "if (RESOL & 1) == 1 :\n",
    "    PIXEL_WIDTH  = PIXEL_XGA_WIDTH\n",
    "    PIXEL_HEIGHT = PIXEL_XGA_HEIGHT\n",
    "    print(\"XGA setting @ DisplayPort\", PIXEL_WIDTH, PIXEL_HEIGHT)\n",
    "else :\n",
    "    PIXEL_WIDTH  = PIXEL_VGA_WIDTH\n",
    "    PIXEL_HEIGHT = PIXEL_VGA_HEIGHT\n",
    "    print(\"VGA setting @ DisplayPort\", PIXEL_WIDTH, PIXEL_HEIGHT)\n",
    "\n",
    "lvdp.configure(VideoMode(PIXEL_WIDTH, PIXEL_HEIGHT, 24), PIXEL_RGB)"
   ]
  },
  {
   "cell_type": "markdown",
   "id": "29aae91c",
   "metadata": {},
   "source": [
    "### [STEP-6] ユーザプログラム"
   ]
  },
  {
   "cell_type": "code",
   "execution_count": 31,
   "id": "adc4d421",
   "metadata": {},
   "outputs": [],
   "source": []
  },
  {
   "cell_type": "markdown",
   "id": "a33dcf2d",
   "metadata": {},
   "source": [
    "### [STEP-99] 終了処理\n",
    "- 表示OFF @ DISPCTRL\n",
    "- PYNQの初期画面に戻す"
   ]
  },
  {
   "cell_type": "code",
   "execution_count": 35,
   "id": "c63610a8",
   "metadata": {},
   "outputs": [],
   "source": [
    "pl.regbus_0.write(RA_DISPCTRL, 0x00000000)\n",
    "lvdp.close()"
   ]
  },
  {
   "cell_type": "code",
   "execution_count": null,
   "id": "e92b55b8",
   "metadata": {},
   "outputs": [],
   "source": []
  }
 ],
 "metadata": {
  "kernelspec": {
   "display_name": "Python 3 (ipykernel)",
   "language": "python",
   "name": "python3"
  },
  "language_info": {
   "codemirror_mode": {
    "name": "ipython",
    "version": 3
   },
   "file_extension": ".py",
   "mimetype": "text/x-python",
   "name": "python",
   "nbconvert_exporter": "python",
   "pygments_lexer": "ipython3",
   "version": "3.10.4"
  }
 },
 "nbformat": 4,
 "nbformat_minor": 5
}

{
 "cells": [
  {
   "cell_type": "markdown",
   "id": "2bc8dab7",
   "metadata": {},
   "source": [
    "# 表示回路２テストプログラム\n",
    "- DDR4に格納された画像を表示する\n",
    "- PLにはDMA(AXIバスマスター側)と表示回路＋レジスタを実装\n",
    "- VGAとXGAの２つの解像度の画像表示をテストする"
   ]
  },
  {
   "cell_type": "markdown",
   "id": "3f62953a",
   "metadata": {},
   "source": [
    "### [STEP-1] 定数定義\n",
    "- 表示回路２の解像度はVGA or XGA\n",
    "- レジスタアドレス設定"
   ]
  },
  {
   "cell_type": "code",
   "execution_count": null,
   "id": "0dffdb4e",
   "metadata": {},
   "outputs": [],
   "source": [
    "# 表示解像度パラメータ\n",
    "PIXEL_VGA_WIDTH  = 640\n",
    "PIXEL_VGA_HEIGHT = 480\n",
    "\n",
    "PIXEL_XGA_WIDTH  = 1024\n",
    "PIXEL_XGA_HEIGHT = 768\n",
    "\n",
    "PIXEL_SXGA_WIDTH  = 1280\n",
    "PIXEL_SXGA_HEIGHT = 1024\n",
    "\n",
    "# 表示回路レジスタオフセット\n",
    "RA_DISPADDR = 0x00000000\n",
    "RA_DISPCTRL = 0x00000004\n",
    "RA_DISPINT  = 0x00000008\n",
    "RA_DISPFIFO = 0x0000000c\n",
    "\n",
    "#GPIOレジスタ\n",
    "RA_GPIO_DATA = 0x00000000"
   ]
  },
  {
   "cell_type": "markdown",
   "id": "b7c66e7a",
   "metadata": {},
   "source": [
    "### [STEP-2] DisplayPort設定用クラス定義\n",
    "- Zynq内部の専用レジスタの定義とレジスタ設定"
   ]
  },
  {
   "cell_type": "code",
   "execution_count": null,
   "id": "481fef4e",
   "metadata": {},
   "outputs": [],
   "source": [
    "import time\n",
    "from pynq import MMIO\n",
    "from pynq.lib.video import *\n",
    "\n",
    "class LiveDisplayPort(DisplayPort):\n",
    "    \n",
    "    # DisplayPortレジスタパラメータ\n",
    "    __DP_REG_BASE_ADDR__                    = 0xfd4a0000\n",
    "    __DP_REG_ADDR_RANGE__                   = 0x0000cc20\n",
    "    __RA_DP_MAIN_STREAM_ENABLE__            = 0x00000084\n",
    "    __RA_V_BLEND_SET_GLOVAL_ALPHA_REG__     = 0x0000a00c\n",
    "    __RA_AV_BUF_OUTPUT_AUDIO_VIDEO_SELECT__ = 0x0000b070\n",
    "    __RA_AV_BUF_AUD_VID_CLK_SOURCE__        = 0x0000b120\n",
    "    __RA_AV_BUF_SRST_REG__                  = 0x0000b124\n",
    "    \n",
    "    def __init__(self, event_loop=None):\n",
    "        super().__init__(event_loop)\n",
    "        \n",
    "    def configure(self, mode, pixelformat):\n",
    "        super().configure(mode, pixelformat)\n",
    "        self.__setup_live_video__()\n",
    "        \n",
    "    def __setup_live_video__(self):\n",
    "        dpreg = MMIO(self.__DP_REG_BASE_ADDR__, self.__DP_REG_ADDR_RANGE__)\n",
    "        dpreg.write(self.__RA_DP_MAIN_STREAM_ENABLE__, 0x00000000)\n",
    "        dpreg.write(self.__RA_V_BLEND_SET_GLOVAL_ALPHA_REG__, 0x00000000)\n",
    "        dpreg.write(self.__RA_AV_BUF_OUTPUT_AUDIO_VIDEO_SELECT__, 0x00000050)\n",
    "        dpreg.write(self.__RA_AV_BUF_AUD_VID_CLK_SOURCE__, 0x00000002)\n",
    "        dpreg.write(self.__RA_AV_BUF_SRST_REG__, 0x00000002)\n",
    "        time.sleep(1)\n",
    "        dpreg.write(self.__RA_AV_BUF_SRST_REG__, 0x00000000)\n",
    "        time.sleep(1)\n",
    "        dpreg.write(self.__RA_DP_MAIN_STREAM_ENABLE__, 0x00000001)"
   ]
  },
  {
   "cell_type": "markdown",
   "id": "9249de88",
   "metadata": {},
   "source": [
    "### [STEP-3] Overlay\n",
    "- 表示回路１のコンフィギュレーション"
   ]
  },
  {
   "cell_type": "code",
   "execution_count": null,
   "id": "3e055923",
   "metadata": {},
   "outputs": [],
   "source": [
    "from pynq import Overlay\n",
    "pl = Overlay(\"design_1.bit\")"
   ]
  },
  {
   "cell_type": "markdown",
   "id": "d215a411",
   "metadata": {},
   "source": [
    "### [STEP-4] パターン表示回路の解像度設定\n",
    "- RESOLの値を変更してパターン表示回路の解像度を設定\n",
    "    - 0 : VGA設定\n",
    "    - 1 : XGA設定\n",
    "    - 2 : SXGA設定\n"
   ]
  },
  {
   "cell_type": "code",
   "execution_count": null,
   "id": "53c87ccf",
   "metadata": {},
   "outputs": [],
   "source": [
    "RESOL = 1\n",
    "pl.axi_gpio_0.write(RA_GPIO_DATA,(RESOL))\n",
    "pl.axi_gpio_0.read(RA_GPIO_DATA)"
   ]
  },
  {
   "cell_type": "markdown",
   "id": "052e1ff1",
   "metadata": {},
   "source": [
    "### [STEP-5] DisplayPort初期化\n",
    "- パターン表示回路の解像度に設定を合わせる\n",
    "    - VGA設定  : dp.configure(VideoMode(640,480,24),PIXEL_RGB)\n",
    "    - XGA設定  : dp.configure(VideoMode(1024,768,24),PIXEL_RGB)\n",
    "    - SXGA設定 : dp.configure(VideoMode(1280,1024,24),PIXEL_RGB)"
   ]
  },
  {
   "cell_type": "code",
   "execution_count": null,
   "id": "1504f6a5",
   "metadata": {},
   "outputs": [],
   "source": [
    "from pynq.lib.video import *\n",
    "lvdp = LiveDisplayPort()\n",
    "\n",
    "if RESOL == 0:\n",
    "    PIXEL_WIDTH  = PIXEL_VGA_WIDTH\n",
    "    PIXEL_HEIGHT = PIXEL_VGA_HEIGHT\n",
    "    print(\"VGA setting @ DisplayPort\", PIXEL_WIDTH, PIXEL_HEIGHT)\n",
    "elif RESOL == 1 :\n",
    "    PIXEL_WIDTH  = PIXEL_XGA_WIDTH\n",
    "    PIXEL_HEIGHT = PIXEL_XGA_HEIGHT\n",
    "    print(\"XGA setting @ DisplayPort\", PIXEL_WIDTH, PIXEL_HEIGHT)\n",
    "else :\n",
    "    PIXEL_WIDTH  = PIXEL_SXGA_WIDTH\n",
    "    PIXEL_HEIGHT = PIXEL_SXGA_HEIGHT\n",
    "    print(\"SXGA setting @ DisplayPort\", PIXEL_WIDTH, PIXEL_HEIGHT)\n",
    "    \n",
    "\n",
    "lvdp.configure(VideoMode(PIXEL_WIDTH, PIXEL_HEIGHT, 24), PIXEL_RGB)"
   ]
  },
  {
   "cell_type": "markdown",
   "id": "e7c8797f",
   "metadata": {},
   "source": [
    "### [STEP-6] VRAM領域確保\n",
    "- １フレーム分の領域を確保\n",
    "- 高さ x 幅 x 4byte(RGBA)で１フレーム"
   ]
  },
  {
   "cell_type": "code",
   "execution_count": null,
   "id": "dbf8d0a1",
   "metadata": {},
   "outputs": [],
   "source": [
    "from pynq import allocate\n",
    "\n",
    "fb0 = allocate(shape = (PIXEL_HEIGHT, PIXEL_WIDTH, 4), dtype = \"u1\")"
   ]
  },
  {
   "cell_type": "markdown",
   "id": "109ef4e7",
   "metadata": {},
   "source": [
    "### [STEP-7] VRAM領域にテストパターン画像を書き込み\n",
    "- パターン表示回路で表示した市松模様のパターン\n",
    "- データの並びは、[B-8bit, G-8bit, R-8bit, A-8bit]の順\n",
    "- ピクセル単位で書き込みをしているため、処理に数分かかります"
   ]
  },
  {
   "cell_type": "code",
   "execution_count": null,
   "id": "c684e77a",
   "metadata": {},
   "outputs": [],
   "source": [
    "PIXEL_PATTERN = [[0,0,255,0],[0,255,0,0],[255,0,0,0],[255,0,255,0],[0,255,255,0],[255,255,0,0],[0,0,0,0],[255,255,255,0]]\n",
    "\n",
    "for h in range(PIXEL_HEIGHT):\n",
    "    for w in range(PIXEL_WIDTH):\n",
    "        fb0[h][w][:] = PIXEL_PATTERN[w//(PIXEL_WIDTH>>3)-h//(PIXEL_HEIGHT>>2)]"
   ]
  },
  {
   "cell_type": "markdown",
   "id": "ef1bdc4d",
   "metadata": {},
   "source": [
    "### [STEP-8] 表示回路のレジスタ設定\n",
    "- 同期処理（VBLANK待ち)\n",
    "- 表示開始先頭アドレス設定 @ DISPADDR\n",
    "- 表示ON @ DISPCTRL"
   ]
  },
  {
   "cell_type": "code",
   "execution_count": null,
   "id": "2b31145d",
   "metadata": {},
   "outputs": [],
   "source": [
    "pl.regbus_0.write(RA_DISPCTRL, 0x00000003)\n",
    "while pl.regbus_0.read(RA_DISPCTRL) != 0x00000003 :\n",
    "    pass\n",
    "\n",
    "pl.regbus_0.write(RA_DISPADDR, fb0.device_address)\n",
    "pl.regbus_0.write(RA_DISPCTRL, 0x00000001)"
   ]
  },
  {
   "cell_type": "markdown",
   "id": "2267fd87",
   "metadata": {},
   "source": [
    "### [STEP-9] 表示レジスタの設定\n",
    "- 表示OFF @ DISPCTRL"
   ]
  },
  {
   "cell_type": "code",
   "execution_count": null,
   "id": "255319b7",
   "metadata": {},
   "outputs": [],
   "source": [
    "pl.regbus_0.write(RA_DISPCTRL, 0x00000000)"
   ]
  },
  {
   "cell_type": "markdown",
   "id": "4bbb88f0",
   "metadata": {},
   "source": [
    "### [STEP-10] PYNQの初期画面に戻す\n",
    "- DisplayPortの制御は、PL側からPS側に切り替わります。"
   ]
  },
  {
   "cell_type": "code",
   "execution_count": null,
   "id": "a9dfbe3e",
   "metadata": {},
   "outputs": [],
   "source": [
    "lvdp.close()"
   ]
  }
 ],
 "metadata": {
  "kernelspec": {
   "display_name": "Python 3 (ipykernel)",
   "language": "python",
   "name": "python3"
  },
  "language_info": {
   "codemirror_mode": {
    "name": "ipython",
    "version": 3
   },
   "file_extension": ".py",
   "mimetype": "text/x-python",
   "name": "python",
   "nbconvert_exporter": "python",
   "pygments_lexer": "ipython3",
   "version": "3.10.4"
  }
 },
 "nbformat": 4,
 "nbformat_minor": 5
}

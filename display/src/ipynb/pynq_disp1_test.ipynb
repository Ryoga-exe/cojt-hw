{
 "cells": [
  {
   "cell_type": "markdown",
   "id": "8a9bd1ec",
   "metadata": {},
   "source": [
    "# 表示回路１テストプログラム\n",
    "- DDR4(VRAM)に格納された画像を表示する\n",
    "- PLにはDMA(AXIバスマスター側)と表示回路を実装"
   ]
  },
  {
   "cell_type": "markdown",
   "id": "b1b9c27e",
   "metadata": {},
   "source": [
    "### [STEP-1] 定数定義\n",
    "- 表示回路１の解像度はVGA固定\n",
    "- レジスタは、DISPADDR, DISPCTRL(DISPONビット)のみ有効"
   ]
  },
  {
   "cell_type": "code",
   "execution_count": 24,
   "id": "eeee865b",
   "metadata": {},
   "outputs": [],
   "source": [
    "# 表示解像度（VGA）\n",
    "PIXEL_HEIGHT = 480\n",
    "PIXEL_WIDTH  = 640\n",
    "\n",
    "# 表示回路レジスタオフセット\n",
    "RA_DISPADDR = 0x00000000\n",
    "RA_DISPCTRL = 0x00000004\n",
    "RA_DISPINT  = 0x00000008\n",
    "RA_DISPFIFO = 0x0000000c"
   ]
  },
  {
   "cell_type": "markdown",
   "id": "4e530800",
   "metadata": {},
   "source": [
    "### [STEP-2] DisplayPort設定用クラス定義\n",
    "- Zynq内部の専用レジスタの定義とレジスタ設定"
   ]
  },
  {
   "cell_type": "code",
   "execution_count": 25,
   "id": "a2b6bd13",
   "metadata": {},
   "outputs": [],
   "source": [
    "import time\n",
    "from pynq import MMIO\n",
    "from pynq.lib.video import *\n",
    "\n",
    "class LiveDisplayPort(DisplayPort):\n",
    "    \n",
    "    # DisplayPortレジスタパラメータ\n",
    "    __DP_REG_BASE_ADDR__                    = 0xfd4a0000\n",
    "    __DP_REG_ADDR_RANGE__                   = 0x0000cc20\n",
    "    __RA_DP_MAIN_STREAM_ENABLE__            = 0x00000084\n",
    "    __RA_V_BLEND_SET_GLOVAL_ALPHA_REG__     = 0x0000a00c\n",
    "    __RA_AV_BUF_OUTPUT_AUDIO_VIDEO_SELECT__ = 0x0000b070\n",
    "    __RA_AV_BUF_AUD_VID_CLK_SOURCE__        = 0x0000b120\n",
    "    __RA_AV_BUF_SRST_REG__                  = 0x0000b124\n",
    "    \n",
    "    def __init__(self, event_loop=None):\n",
    "        super().__init__(event_loop)\n",
    "        \n",
    "    def configure(self, mode, pixelformat):\n",
    "        super().configure(mode, pixelformat)\n",
    "        self.__setup_live_video__()\n",
    "        \n",
    "    def __setup_live_video__(self):\n",
    "        dpreg = MMIO(self.__DP_REG_BASE_ADDR__, self.__DP_REG_ADDR_RANGE__)\n",
    "        dpreg.write(self.__RA_DP_MAIN_STREAM_ENABLE__, 0x00000000)\n",
    "        dpreg.write(self.__RA_V_BLEND_SET_GLOVAL_ALPHA_REG__, 0x00000000)\n",
    "        dpreg.write(self.__RA_AV_BUF_OUTPUT_AUDIO_VIDEO_SELECT__, 0x00000050)\n",
    "        dpreg.write(self.__RA_AV_BUF_AUD_VID_CLK_SOURCE__, 0x00000002)\n",
    "        dpreg.write(self.__RA_AV_BUF_SRST_REG__, 0x00000002)\n",
    "        time.sleep(1)\n",
    "        dpreg.write(self.__RA_AV_BUF_SRST_REG__, 0x00000000)\n",
    "        time.sleep(1)\n",
    "        dpreg.write(self.__RA_DP_MAIN_STREAM_ENABLE__, 0x00000001)"
   ]
  },
  {
   "cell_type": "markdown",
   "id": "a91a5bf9",
   "metadata": {},
   "source": [
    "### [STEP-3] Overlay\n",
    "- 表示回路１のコンフィギュレーション"
   ]
  },
  {
   "cell_type": "code",
   "execution_count": 26,
   "id": "0a56aff5",
   "metadata": {},
   "outputs": [],
   "source": [
    "from pynq import Overlay\n",
    "pl = Overlay(\"design_1.bit\")"
   ]
  },
  {
   "cell_type": "markdown",
   "id": "ea5f73ed",
   "metadata": {},
   "source": [
    "### [STEP-4] DisplayPort初期化\n",
    "- Live Videoモードに設定（表示回路の画像を出力するモード）\n",
    "- 表示回路１では、解像度はVGA固定"
   ]
  },
  {
   "cell_type": "code",
   "execution_count": 29,
   "id": "5c5c09ed",
   "metadata": {},
   "outputs": [],
   "source": [
    "lvdp = LiveDisplayPort()\n",
    "lvdp.configure(VideoMode(PIXEL_WIDTH, PIXEL_HEIGHT, 24), PIXEL_RGB)"
   ]
  },
  {
   "cell_type": "markdown",
   "id": "f2fe0386",
   "metadata": {},
   "source": [
    "### [STEP-5] VRAM領域確保\n",
    "- ここではまず１フレーム分の領域を確保\n",
    "- 高さ x 幅 x 4byte(RGBA)で１フレーム"
   ]
  },
  {
   "cell_type": "code",
   "execution_count": 30,
   "id": "983f30dd",
   "metadata": {},
   "outputs": [],
   "source": [
    "from pynq import allocate\n",
    "\n",
    "fb0 = allocate(shape = (PIXEL_HEIGHT, PIXEL_WIDTH, 4), dtype = \"u1\")"
   ]
  },
  {
   "cell_type": "markdown",
   "id": "906f4fce",
   "metadata": {},
   "source": [
    "### [STEP-6] VRAM領域にテストパターン画像を書き込み\n",
    "- パターン表示回路で表示した市松模様のパターン\n",
    "- データの並びは、[B-8bit, G-8bit, R-8bit, A-8bit]の順",
    "- ピクセル単位で書き込みをしているため、処理に数分かかります"
   ]
  },
  {
   "cell_type": "code",
   "execution_count": 33,
   "id": "aa6daaa5",
   "metadata": {},
   "outputs": [],
   "source": [
    "PIXEL_PATTERN = [[0,0,255,0],[0,255,0,0],[255,0,0,0],[255,0,255,0],[0,255,255,0],[255,255,0,0],[0,0,0,0],[255,255,255,0]]\n",
    "\n",
    "for h in range(PIXEL_HEIGHT):\n",
    "    for w in range(PIXEL_WIDTH):\n",
    "        fb0[h][w][:] = PIXEL_PATTERN[w//(PIXEL_WIDTH>>3)-h//(PIXEL_HEIGHT>>2)]"
   ]
  },
  {
   "cell_type": "markdown",
   "id": "6f2d885f",
   "metadata": {},
   "source": [
    "### [STEP-7] 表示回路のレジスタ設定\n",
    "- 表示開始先頭アドレス設定 @ DISPADDR\n",
    "- 表示ON @ DISPCTRL"
   ]
  },
  {
   "cell_type": "code",
   "execution_count": 32,
   "id": "b536dc7a",
   "metadata": {},
   "outputs": [],
   "source": [
    "pl.regbus_0.write(RA_DISPADDR, fb0.device_address)\n",
    "pl.regbus_0.write(RA_DISPCTRL, 0x00000001)"
   ]
  },
  {
   "cell_type": "markdown",
   "id": "60315519",
   "metadata": {},
   "source": [
    "### [STEP-8] 表示レジスタの設定\n",
    "- 表示OFF @ DISPCTRL"
   ]
  },
  {
   "cell_type": "code",
   "execution_count": 34,
   "id": "c0a6e107",
   "metadata": {},
   "outputs": [],
   "source": [
    "pl.regbus_0.write(RA_DISPCTRL, 0x00000000)"
   ]
  },
  {
   "cell_type": "markdown",
   "id": "b6c58db5",
   "metadata": {},
   "source": [
    "### [STEP-9] PYNQの初期画面に戻す\n",
    "- DisplayPortの制御は、PL側からPS側に切り替わります。"
   ]
  },
  {
   "cell_type": "code",
   "execution_count": 35,
   "id": "28d6e997",
   "metadata": {},
   "outputs": [],
   "source": [
    "lvdp.close()"
   ]
  },
  {
   "cell_type": "code",
   "execution_count": null,
   "id": "de3b07a8",
   "metadata": {},
   "outputs": [],
   "source": []
  }
 ],
 "metadata": {
  "kernelspec": {
   "display_name": "Python 3 (ipykernel)",
   "language": "python",
   "name": "python3"
  },
  "language_info": {
   "codemirror_mode": {
    "name": "ipython",
    "version": 3
   },
   "file_extension": ".py",
   "mimetype": "text/x-python",
   "name": "python",
   "nbconvert_exporter": "python",
   "pygments_lexer": "ipython3",
   "version": "3.10.4"
  }
 },
 "nbformat": 4,
 "nbformat_minor": 5
}

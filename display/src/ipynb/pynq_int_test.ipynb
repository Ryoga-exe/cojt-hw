{
 "cells": [
  {
   "cell_type": "markdown",
   "id": "914ae980",
   "metadata": {},
   "source": [
    "# 割込み制御テストプログラム\n",
    "- 表示回路２に割込み制御レジスタが正しく実装されているかを確認する\n",
    "- 割込み処理が正しく実行されることを確認する"
   ]
  },
  {
   "cell_type": "markdown",
   "id": "69c68f8f",
   "metadata": {},
   "source": [
    "### [STEP-1] 定数定義\n",
    "- レジスタアドレス設定"
   ]
  },
  {
   "cell_type": "code",
   "execution_count": null,
   "id": "f1b8fee7",
   "metadata": {},
   "outputs": [],
   "source": [
    "# 表示回路レジスタオフセット\n",
    "RA_DISPADDR = 0x00000000\n",
    "RA_DISPCTRL = 0x00000004\n",
    "RA_DISPINT  = 0x00000008\n",
    "RA_DISPFIFO = 0x0000000c\n",
    "\n",
    "#GPIOレジスタ\n",
    "RA_GPIO_DATA = 0x00000000\n",
    "\n",
    "#FRAMEカウンタ\n",
    "FRAME_CNT = 0"
   ]
  },
  {
   "cell_type": "markdown",
   "id": "2b9e6ef8",
   "metadata": {},
   "source": [
    "### [STEP-2] Overlay\n",
    "- 表示回路２のコンフィギュレーション"
   ]
  },
  {
   "cell_type": "code",
   "execution_count": null,
   "id": "c75f7efe",
   "metadata": {},
   "outputs": [],
   "source": [
    "from pynq import Overlay\n",
    "pl = Overlay(\"design_1.bit\")"
   ]
  },
  {
   "cell_type": "markdown",
   "id": "2f8610ca",
   "metadata": {},
   "source": [
    "### [STEP-3] 割込みピンの確認\n",
    "- 次の結果が得られればOK  \n",
    "{'display_0/DSP_IRQ': {'controller': 'axi_intc_0',  \n",
    "&nbsp;&nbsp;&nbsp;&nbsp;'index': 0,  \n",
    "&nbsp;&nbsp;&nbsp;&nbsp;'fullpath': 'display_0/DSP_IRQ'},  \n",
    "&nbsp;&nbsp;'axi_intc_0/intr': {'controller': 'axi_intc_0',  \n",
    "&nbsp;&nbsp;&nbsp;&nbsp;'index': 0,  \n",
    "&nbsp;&nbsp;&nbsp;&nbsp;'fullpath': 'axi_intc_0/intr'}}"
   ]
  },
  {
   "cell_type": "code",
   "execution_count": null,
   "id": "71991afd",
   "metadata": {},
   "outputs": [],
   "source": [
    "pl.interrupt_pins"
   ]
  },
  {
   "cell_type": "markdown",
   "id": "52a9b2a6",
   "metadata": {},
   "source": [
    "### [STEP-4] 割込みの登録\n",
    "- display_0はメモリマップされていないため、直接割込みの登録ができない\n",
    "- 代わりに割込みコントローラーの割込みピン（axi_intc_0.intr）を登録する"
   ]
  },
  {
   "cell_type": "code",
   "execution_count": null,
   "id": "d1a5977e",
   "metadata": {},
   "outputs": [],
   "source": [
    "interrupt = pl.axi_intc_0.intr"
   ]
  },
  {
   "cell_type": "markdown",
   "id": "3c2f225f",
   "metadata": {},
   "source": [
    "### [STEP-5] 割込み待ち関数の定義\n",
    "- await interrupt.wait() で割込みが発生するのを待つ\n",
    "- 割込み発生後は割込みをクリア\n",
    "- フレームカウントをカウントアップ"
   ]
  },
  {
   "cell_type": "code",
   "execution_count": null,
   "id": "dc02bc1f",
   "metadata": {},
   "outputs": [],
   "source": [
    "async def wait_for_int() :\n",
    "    global FRAME_CNT                          #グローバル変数\n",
    "    await interrupt.wait()                    #割込み待ち\n",
    "    pl.regbus_0.write(RA_DISPINT, 0x00000003) #割込みクリア\n",
    "    FRAME_CNT = FRAME_CNT + 1                 #フレームカウンタインクリメント"
   ]
  },
  {
   "cell_type": "markdown",
   "id": "855ef381",
   "metadata": {},
   "source": [
    "### [STEP-6] メイン処理\n",
    "- 割込みイネーブル設定 @ RA_DISPINTレジスタ\n",
    "- asyncio ライブラリで割込み待ち関数をtaskに登録\n",
    "- taskの処理待ち\n",
    "- 10回処理を繰り返して終了\n",
    "- FRAME_CNTが0～9で表示されればOK"
   ]
  },
  {
   "cell_type": "code",
   "execution_count": null,
   "id": "0dba22ab",
   "metadata": {},
   "outputs": [],
   "source": [
    "import asyncio\n",
    "\n",
    "pl.regbus_0.write(RA_DISPINT, 0x00000001)  #割込みイネーブル\n",
    "loop = asyncio.get_event_loop()\n",
    "\n",
    "FRAME_CNT = 0\n",
    "\n",
    "for I in range(10) :\n",
    "    print(\"Frame Count= {}\".format(FRAME_CNT))  #FRAME_CNTを表示\n",
    "    task = loop.create_task(wait_for_int())     #割込み待ち関数を登録\n",
    "    loop.run_until_complete(task)               #割込み待ち関数処理の終了待ち"
   ]
  }
 ],
 "metadata": {
  "kernelspec": {
   "display_name": "Python 3 (ipykernel)",
   "language": "python",
   "name": "python3"
  },
  "language_info": {
   "codemirror_mode": {
    "name": "ipython",
    "version": 3
   },
   "file_extension": ".py",
   "mimetype": "text/x-python",
   "name": "python",
   "nbconvert_exporter": "python",
   "pygments_lexer": "ipython3",
   "version": "3.10.4"
  }
 },
 "nbformat": 4,
 "nbformat_minor": 5
}
